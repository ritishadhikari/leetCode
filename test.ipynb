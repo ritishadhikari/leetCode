{
 "cells": [
  {
   "cell_type": "code",
   "execution_count": 80,
   "metadata": {},
   "outputs": [],
   "source": [
    "import random\n",
    "class Codec:\n",
    "    def __init__(self):\n",
    "        self.str2enc={}\n",
    "        self.enc2str={}\n",
    "        self.potentialEncoders=\"abcdefghijklmnopqrstuvwxyz\"\n",
    "    def decode(self,shortUrl:str) ->str:\n",
    "        # Only take in the 6 letters after https://tinyurl.com/\n",
    "        # from the enc2str dict and return the same\n",
    "        return self.enc2str[shortUrl[-6:]] if shortUrl[-6:] in self.enc2str else None\n",
    "    \n",
    "    def encode(self,longUrl:str) -> str:\n",
    "        # Only Enter the Loop only if the string has never been encoded before\n",
    "        # And Hence encode the string into 6 characters \n",
    "        # Eventually append it with https://tinyurl.com/ \n",
    "        while longUrl not in self.str2enc:\n",
    "            # only encode with letters and not any special characters\n",
    "            # and hence we use self.potentialEncoders and not the \n",
    "            # longurl which may consist of special characters\n",
    "            encoded=\"\".join(random.choices(population=self.potentialEncoders,k=6))\n",
    "            # the encoded word should not be a duplicate either which has \n",
    "            # been used to encode other strings\n",
    "            if encoded not in self.enc2str:\n",
    "                self.str2enc[longUrl]=encoded\n",
    "                self.enc2str[encoded]=longUrl\n",
    "        return \"https://tinyurl.com/\"+self.str2enc[longUrl]\n"
   ]
  },
  {
   "cell_type": "code",
   "execution_count": 86,
   "metadata": {},
   "outputs": [],
   "source": [
    "codec=Codec()"
   ]
  },
  {
   "cell_type": "code",
   "execution_count": 87,
   "metadata": {},
   "outputs": [
    {
     "name": "stdout",
     "output_type": "stream",
     "text": [
      "https://tinyurl.com/tilihy\n"
     ]
    }
   ],
   "source": [
    "decodedLink=codec.encode(longUrl=\"https://www.timesofindia.com\")\n",
    "print(decodedLink)"
   ]
  },
  {
   "cell_type": "code",
   "execution_count": 88,
   "metadata": {},
   "outputs": [
    {
     "name": "stdout",
     "output_type": "stream",
     "text": [
      "https://www.timesofindia.com\n"
     ]
    }
   ],
   "source": [
    "encodedLink=codec.decode(shortUrl=decodedLink)\n",
    "print(encodedLink)"
   ]
  },
  {
   "cell_type": "code",
   "execution_count": 89,
   "metadata": {},
   "outputs": [
    {
     "name": "stdout",
     "output_type": "stream",
     "text": [
      "https://tinyurl.com/ezydjn\n"
     ]
    }
   ],
   "source": [
    "decodedLink2=codec.encode(longUrl=\"https://www.hdfcbank.com\")\n",
    "print(decodedLink2)"
   ]
  },
  {
   "cell_type": "code",
   "execution_count": 90,
   "metadata": {},
   "outputs": [
    {
     "name": "stdout",
     "output_type": "stream",
     "text": [
      "https://www.hdfcbank.com\n"
     ]
    }
   ],
   "source": [
    "encodedLink2=codec.decode(shortUrl=decodedLink2)\n",
    "print(encodedLink2)"
   ]
  }
 ],
 "metadata": {
  "kernelspec": {
   "display_name": "Python 3",
   "language": "python",
   "name": "python3"
  },
  "language_info": {
   "codemirror_mode": {
    "name": "ipython",
    "version": 3
   },
   "file_extension": ".py",
   "mimetype": "text/x-python",
   "name": "python",
   "nbconvert_exporter": "python",
   "pygments_lexer": "ipython3",
   "version": "3.8.7"
  }
 },
 "nbformat": 4,
 "nbformat_minor": 2
}
